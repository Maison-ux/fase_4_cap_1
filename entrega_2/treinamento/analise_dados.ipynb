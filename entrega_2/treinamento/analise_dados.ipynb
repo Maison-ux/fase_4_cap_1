{
 "cells": [
  {
   "metadata": {
    "ExecuteTime": {
     "end_time": "2025-06-21T00:16:33.024234Z",
     "start_time": "2025-06-21T00:16:30.242462Z"
    }
   },
   "cell_type": "code",
   "source": "!pip install pandas scikit-learn imbalanced-learn matplotlib joblib",
   "id": "fede0973f759e38a",
   "outputs": [
    {
     "name": "stdout",
     "output_type": "stream",
     "text": [
      "Requirement already satisfied: pandas in /Users/italodom/DESENVOLVIMENTO/ITALO/FIAP/fase_4/farm_tech/.venv/lib/python3.11/site-packages (2.3.0)\r\n",
      "Requirement already satisfied: scikit-learn in /Users/italodom/DESENVOLVIMENTO/ITALO/FIAP/fase_4/farm_tech/.venv/lib/python3.11/site-packages (1.7.0)\r\n",
      "Requirement already satisfied: imbalanced-learn in /Users/italodom/DESENVOLVIMENTO/ITALO/FIAP/fase_4/farm_tech/.venv/lib/python3.11/site-packages (0.13.0)\r\n",
      "Requirement already satisfied: matplotlib in /Users/italodom/DESENVOLVIMENTO/ITALO/FIAP/fase_4/farm_tech/.venv/lib/python3.11/site-packages (3.10.3)\r\n",
      "Requirement already satisfied: joblib in /Users/italodom/DESENVOLVIMENTO/ITALO/FIAP/fase_4/farm_tech/.venv/lib/python3.11/site-packages (1.5.1)\r\n",
      "Requirement already satisfied: numpy>=1.23.2 in /Users/italodom/DESENVOLVIMENTO/ITALO/FIAP/fase_4/farm_tech/.venv/lib/python3.11/site-packages (from pandas) (2.3.0)\r\n",
      "Requirement already satisfied: python-dateutil>=2.8.2 in /Users/italodom/DESENVOLVIMENTO/ITALO/FIAP/fase_4/farm_tech/.venv/lib/python3.11/site-packages (from pandas) (2.9.0.post0)\r\n",
      "Requirement already satisfied: pytz>=2020.1 in /Users/italodom/DESENVOLVIMENTO/ITALO/FIAP/fase_4/farm_tech/.venv/lib/python3.11/site-packages (from pandas) (2025.2)\r\n",
      "Requirement already satisfied: tzdata>=2022.7 in /Users/italodom/DESENVOLVIMENTO/ITALO/FIAP/fase_4/farm_tech/.venv/lib/python3.11/site-packages (from pandas) (2025.2)\r\n",
      "Requirement already satisfied: scipy>=1.8.0 in /Users/italodom/DESENVOLVIMENTO/ITALO/FIAP/fase_4/farm_tech/.venv/lib/python3.11/site-packages (from scikit-learn) (1.15.3)\r\n",
      "Requirement already satisfied: threadpoolctl>=3.1.0 in /Users/italodom/DESENVOLVIMENTO/ITALO/FIAP/fase_4/farm_tech/.venv/lib/python3.11/site-packages (from scikit-learn) (3.6.0)\r\n",
      "Requirement already satisfied: sklearn-compat<1,>=0.1 in /Users/italodom/DESENVOLVIMENTO/ITALO/FIAP/fase_4/farm_tech/.venv/lib/python3.11/site-packages (from imbalanced-learn) (0.1.3)\r\n",
      "Collecting scikit-learn\r\n",
      "  Using cached scikit_learn-1.6.1-cp311-cp311-macosx_12_0_arm64.whl.metadata (31 kB)\r\n",
      "Requirement already satisfied: contourpy>=1.0.1 in /Users/italodom/DESENVOLVIMENTO/ITALO/FIAP/fase_4/farm_tech/.venv/lib/python3.11/site-packages (from matplotlib) (1.3.2)\r\n",
      "Requirement already satisfied: cycler>=0.10 in /Users/italodom/DESENVOLVIMENTO/ITALO/FIAP/fase_4/farm_tech/.venv/lib/python3.11/site-packages (from matplotlib) (0.12.1)\r\n",
      "Requirement already satisfied: fonttools>=4.22.0 in /Users/italodom/DESENVOLVIMENTO/ITALO/FIAP/fase_4/farm_tech/.venv/lib/python3.11/site-packages (from matplotlib) (4.58.4)\r\n",
      "Requirement already satisfied: kiwisolver>=1.3.1 in /Users/italodom/DESENVOLVIMENTO/ITALO/FIAP/fase_4/farm_tech/.venv/lib/python3.11/site-packages (from matplotlib) (1.4.8)\r\n",
      "Requirement already satisfied: packaging>=20.0 in /Users/italodom/DESENVOLVIMENTO/ITALO/FIAP/fase_4/farm_tech/.venv/lib/python3.11/site-packages (from matplotlib) (25.0)\r\n",
      "Requirement already satisfied: pillow>=8 in /Users/italodom/DESENVOLVIMENTO/ITALO/FIAP/fase_4/farm_tech/.venv/lib/python3.11/site-packages (from matplotlib) (11.2.1)\r\n",
      "Requirement already satisfied: pyparsing>=2.3.1 in /Users/italodom/DESENVOLVIMENTO/ITALO/FIAP/fase_4/farm_tech/.venv/lib/python3.11/site-packages (from matplotlib) (3.2.3)\r\n",
      "Requirement already satisfied: six>=1.5 in /Users/italodom/DESENVOLVIMENTO/ITALO/FIAP/fase_4/farm_tech/.venv/lib/python3.11/site-packages (from python-dateutil>=2.8.2->pandas) (1.17.0)\r\n",
      "Using cached scikit_learn-1.6.1-cp311-cp311-macosx_12_0_arm64.whl (11.1 MB)\r\n",
      "Installing collected packages: scikit-learn\r\n",
      "  Attempting uninstall: scikit-learn\r\n",
      "    Found existing installation: scikit-learn 1.7.0\r\n",
      "    Uninstalling scikit-learn-1.7.0:\r\n",
      "      Successfully uninstalled scikit-learn-1.7.0\r\n",
      "Successfully installed scikit-learn-1.6.1\r\n"
     ]
    }
   ],
   "execution_count": 36
  },
  {
   "metadata": {
    "ExecuteTime": {
     "end_time": "2025-06-21T00:16:33.061288Z",
     "start_time": "2025-06-21T00:16:33.048863Z"
    }
   },
   "cell_type": "code",
   "source": [
    "import pandas as pd\n",
    "\n",
    "# Carregando os dados a partir do CSV\n",
    "df = pd.read_csv(\"dados_sensores.csv\")\n",
    "\n",
    "# Convertendo o timestamp para tipo datetime\n",
    "df[\"data_hora_leitura\"] = pd.to_datetime(df[\"data_hora_leitura\"])\n",
    "\n",
    "# Transformando os dados por sensor em colunas\n",
    "df_pivot = df.pivot_table(\n",
    "    index=\"data_hora_leitura\",\n",
    "    columns=\"id_sensor\",\n",
    "    values=\"valor_sensor\"\n",
    ")\n",
    "\n",
    "# Renomeando colunas para nomes amigáveis\n",
    "df_pivot.columns = [\"fosforo\", \"potassio\", \"ph\", \"umidade\", \"irrigacao\"]\n",
    "\n",
    "# Removendo linhas com dados faltantes (NaN)\n",
    "df_pivot = df_pivot.dropna()\n",
    "\n",
    "# Visualização inicial\n",
    "df_pivot.head()"
   ],
   "id": "fbb97ebe5b55343f",
   "outputs": [
    {
     "data": {
      "text/plain": [
       "                     fosforo  potassio   ph  umidade  irrigacao\n",
       "data_hora_leitura                                              \n",
       "2025-04-02 08:00:00      1.0       0.0  6.5     35.2        0.0\n",
       "2025-04-02 08:30:00      0.8       1.0  6.7     33.7        1.0\n",
       "2025-04-02 09:00:00      0.9       0.0  6.9     31.5        0.0\n",
       "2025-04-02 09:30:00      1.1       1.0  7.1     29.8        0.0\n",
       "2025-04-02 10:00:00      1.2       0.0  7.3     28.3        1.0"
      ],
      "text/html": [
       "<div>\n",
       "<style scoped>\n",
       "    .dataframe tbody tr th:only-of-type {\n",
       "        vertical-align: middle;\n",
       "    }\n",
       "\n",
       "    .dataframe tbody tr th {\n",
       "        vertical-align: top;\n",
       "    }\n",
       "\n",
       "    .dataframe thead th {\n",
       "        text-align: right;\n",
       "    }\n",
       "</style>\n",
       "<table border=\"1\" class=\"dataframe\">\n",
       "  <thead>\n",
       "    <tr style=\"text-align: right;\">\n",
       "      <th></th>\n",
       "      <th>fosforo</th>\n",
       "      <th>potassio</th>\n",
       "      <th>ph</th>\n",
       "      <th>umidade</th>\n",
       "      <th>irrigacao</th>\n",
       "    </tr>\n",
       "    <tr>\n",
       "      <th>data_hora_leitura</th>\n",
       "      <th></th>\n",
       "      <th></th>\n",
       "      <th></th>\n",
       "      <th></th>\n",
       "      <th></th>\n",
       "    </tr>\n",
       "  </thead>\n",
       "  <tbody>\n",
       "    <tr>\n",
       "      <th>2025-04-02 08:00:00</th>\n",
       "      <td>1.0</td>\n",
       "      <td>0.0</td>\n",
       "      <td>6.5</td>\n",
       "      <td>35.2</td>\n",
       "      <td>0.0</td>\n",
       "    </tr>\n",
       "    <tr>\n",
       "      <th>2025-04-02 08:30:00</th>\n",
       "      <td>0.8</td>\n",
       "      <td>1.0</td>\n",
       "      <td>6.7</td>\n",
       "      <td>33.7</td>\n",
       "      <td>1.0</td>\n",
       "    </tr>\n",
       "    <tr>\n",
       "      <th>2025-04-02 09:00:00</th>\n",
       "      <td>0.9</td>\n",
       "      <td>0.0</td>\n",
       "      <td>6.9</td>\n",
       "      <td>31.5</td>\n",
       "      <td>0.0</td>\n",
       "    </tr>\n",
       "    <tr>\n",
       "      <th>2025-04-02 09:30:00</th>\n",
       "      <td>1.1</td>\n",
       "      <td>1.0</td>\n",
       "      <td>7.1</td>\n",
       "      <td>29.8</td>\n",
       "      <td>0.0</td>\n",
       "    </tr>\n",
       "    <tr>\n",
       "      <th>2025-04-02 10:00:00</th>\n",
       "      <td>1.2</td>\n",
       "      <td>0.0</td>\n",
       "      <td>7.3</td>\n",
       "      <td>28.3</td>\n",
       "      <td>1.0</td>\n",
       "    </tr>\n",
       "  </tbody>\n",
       "</table>\n",
       "</div>"
      ]
     },
     "execution_count": 37,
     "metadata": {},
     "output_type": "execute_result"
    }
   ],
   "execution_count": 37
  },
  {
   "metadata": {
    "ExecuteTime": {
     "end_time": "2025-06-21T00:16:33.338820Z",
     "start_time": "2025-06-21T00:16:33.282656Z"
    }
   },
   "cell_type": "code",
   "source": [
    "import matplotlib.pyplot as plt\n",
    "\n",
    "# Visualização da distribuição de classes\n",
    "df_pivot[\"irrigacao\"].value_counts().plot(kind=\"bar\", title=\"Distribuição da Irrigação\")\n",
    "plt.xlabel(\"Classe (0 = Não irrigar, 1 = Irrigar)\")\n",
    "plt.ylabel(\"Quantidade de Ocorrências\")\n",
    "plt.grid(True)\n",
    "plt.show()"
   ],
   "id": "600f9536fb5d81bc",
   "outputs": [
    {
     "data": {
      "text/plain": [
       "<Figure size 640x480 with 1 Axes>"
      ],
      "image/png": "[encoded data removed]"
     },
     "metadata": {},
     "output_type": "display_data"
    }
   ],
   "execution_count": 38
  },
  {
   "metadata": {
    "ExecuteTime": {
     "end_time": "2025-06-21T00:16:33.487314Z",
     "start_time": "2025-06-21T00:16:33.431010Z"
    }
   },
   "cell_type": "code",
   "source": [
    "# Implementação alternativa ao RandomOverSampler\n",
    "import numpy as np\n",
    "\n",
    "# Separação entre entradas e saída\n",
    "X = df_pivot[[\"fosforo\", \"potassio\", \"ph\", \"umidade\"]]\n",
    "y = df_pivot[\"irrigacao\"]\n",
    "\n",
    "# Implementação manual de oversampling\n",
    "# Identificar os índices de cada classe\n",
    "class_0_indices = y[y == 0].index\n",
    "class_1_indices = y[y == 1].index\n",
    "\n",
    "# Determinar qual é a classe minoritária e majoritária\n",
    "if len(class_0_indices) < len(class_1_indices):\n",
    "    minority_class = 0\n",
    "    minority_indices = class_0_indices\n",
    "    majority_indices = class_1_indices\n",
    "else:\n",
    "    minority_class = 1\n",
    "    minority_indices = class_1_indices\n",
    "    majority_indices = class_0_indices\n",
    "\n",
    "# Quantidade da classe majoritária\n",
    "n_majority = len(majority_indices)\n",
    "\n",
    "# Sobreamostragem da classe minoritária (com substituição)\n",
    "minority_upsampled_indices = np.random.choice(\n",
    "    minority_indices,\n",
    "    size=n_majority,\n",
    "    replace=True\n",
    ")\n",
    "\n",
    "# Combinando os índices\n",
    "balanced_indices = np.concatenate([majority_indices, minority_upsampled_indices])\n",
    "\n",
    "# Criando o conjunto de dados balanceado\n",
    "X_res = X.loc[balanced_indices]\n",
    "y_res = y.loc[balanced_indices]\n",
    "\n",
    "# Visualização da nova distribuição\n",
    "pd.Series(y_res).value_counts().plot(kind=\"bar\", title=\"Distribuição Após Oversampling\")\n",
    "plt.xlabel(\"Classe Balanceada\")\n",
    "plt.ylabel(\"Total de Registros\")\n",
    "plt.grid(True)\n",
    "plt.show()"
   ],
   "id": "1c033ca74f5b9a6b",
   "outputs": [
    {
     "data": {
      "text/plain": [
       "<Figure size 640x480 with 1 Axes>"
      ],
      "image/png": "[encoded data removed]"
     },
     "metadata": {},
     "output_type": "display_data"
    }
   ],
   "execution_count": 39
  },
  {
   "metadata": {
    "ExecuteTime": {
     "end_time": "2025-06-21T00:16:33.593037Z",
     "start_time": "2025-06-21T00:16:33.521801Z"
    }
   },
   "cell_type": "code",
   "source": [
    "from sklearn.model_selection import train_test_split\n",
    "from sklearn.ensemble import RandomForestClassifier\n",
    "from sklearn.metrics import classification_report\n",
    "\n",
    "# Divisão em treino e teste\n",
    "X_train, X_test, y_train, y_test = train_test_split(X_res, y_res, test_size=0.2, random_state=42)\n",
    "\n",
    "# Treinamento do modelo\n",
    "modelo = RandomForestClassifier(random_state=42)\n",
    "modelo.fit(X_train, y_train)\n",
    "\n",
    "# Avaliação com métricas de classificação\n",
    "y_pred = modelo.predict(X_test)\n",
    "print(classification_report(y_test, y_pred))"
   ],
   "id": "aa1754ffccb02eb5",
   "outputs": [
    {
     "name": "stdout",
     "output_type": "stream",
     "text": [
      "              precision    recall  f1-score   support\n",
      "\n",
      "         0.0       0.92      0.73      0.81        15\n",
      "         1.0       0.64      0.88      0.74         8\n",
      "\n",
      "    accuracy                           0.78        23\n",
      "   macro avg       0.78      0.80      0.78        23\n",
      "weighted avg       0.82      0.78      0.79        23\n",
      "\n"
     ]
    }
   ],
   "execution_count": 40
  },
  {
   "metadata": {
    "ExecuteTime": {
     "end_time": "2025-06-21T00:17:52.281464Z",
     "start_time": "2025-06-21T00:17:52.255288Z"
    }
   },
   "cell_type": "code",
   "source": [
    "import joblib\n",
    "\n",
    "# Exportando o modelo treinado para um arquivo .pkl\n",
    "joblib.dump(modelo, \"../dashboard/modelo_irrigacao.pkl\")\n",
    "\n",
    "# Exportando o dataset balanceado\n",
    "df_balanceado = X_res.copy()\n",
    "df_balanceado[\"irrigacao\"] = y_res\n",
    "df_balanceado.to_csv(\"../dashboard/dataset_balanceado.csv\", index=False)\n",
    "\n",
    "print(\"Modelo e base balanceada salvos com sucesso!\")"
   ],
   "id": "8b720cdfb7c4ba9f",
   "outputs": [
    {
     "name": "stdout",
     "output_type": "stream",
     "text": [
      "Modelo e base balanceada salvos com sucesso!\n"
     ]
    }
   ],
   "execution_count": 42
  }
 ],
 "metadata": {
  "kernelspec": {
   "display_name": "Python 3",
   "language": "python",
   "name": "python3"
  },
  "language_info": {
   "codemirror_mode": {
    "name": "ipython",
    "version": 2
   },
   "file_extension": ".py",
   "mimetype": "text/x-python",
   "name": "python",
   "nbconvert_exporter": "python",
   "pygments_lexer": "ipython2",
   "version": "2.7.6"
  }
 },
 "nbformat": 4,
 "nbformat_minor": 5
}
